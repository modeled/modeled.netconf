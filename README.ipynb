{
 "cells": [
  {
   "cell_type": "code",
   "execution_count": 1,
   "metadata": {
    "collapsed": true
   },
   "outputs": [],
   "source": [
    "from __future__ import print_function"
   ]
  },
  {
   "cell_type": "code",
   "execution_count": 2,
   "metadata": {
    "collapsed": false
   },
   "outputs": [],
   "source": [
    "import modeled\n",
    "from modeled.netconf import YANGContainer, YANGModule, rpc"
   ]
  },
  {
   "cell_type": "code",
   "execution_count": 3,
   "metadata": {
    "collapsed": true
   },
   "outputs": [],
   "source": [
    "class Input(modeled.object):\n",
    "    state = modeled.member[int]()\n",
    "    symbol = modeled.member[str]()"
   ]
  },
  {
   "cell_type": "code",
   "execution_count": 4,
   "metadata": {
    "collapsed": true
   },
   "outputs": [],
   "source": [
    "class Output(modeled.object):\n",
    "    state = modeled.member[int]()\n",
    "    symbol = modeled.member[str]()\n",
    "    head_move = modeled.member[str]['L', 'R']('R')"
   ]
  },
  {
   "cell_type": "code",
   "execution_count": 5,
   "metadata": {
    "collapsed": true
   },
   "outputs": [],
   "source": [
    "class Transition(modeled.object):\n",
    "    input = modeled.member[Input]()\n",
    "    output = modeled.member[Output]()\n",
    "\n",
    "    def __init__(self, input, output):\n",
    "        \"\"\"Expects `input` as `output` as mappings.\n",
    "        \"\"\"\n",
    "        self.input = Input(\n",
    "            # modeled.object.__init__ supports **kwargs\n",
    "            # for initializing modeled.member values\n",
    "            **dict(input))\n",
    "        self.output = Output(**dict(output))"
   ]
  },
  {
   "cell_type": "code",
   "execution_count": 6,
   "metadata": {
    "collapsed": true
   },
   "outputs": [],
   "source": [
    "class TuringMachine(modeled.object):\n",
    "    state = modeled.member[int]()\n",
    "    head_position = modeled.member[int]()\n",
    "    tape = modeled.member.list[str]()\n",
    "    transitions = modeled.member.dict[str, Transition]()\n",
    "\n",
    "    def __init__(self, transitions):\n",
    "        modeled.object.__init__(self, transitions={})\n",
    "        transitions = dict(transitions)\n",
    "        for name, (input, output) in transitions.items():\n",
    "            self.transitions[name] = Transition(input, output)\n",
    "\n",
    "    def run(self):\n",
    "        while True:\n",
    "            if 0 <= self.head_position < len(self.tape):\n",
    "                symbol = self.tape[self.head_position]\n",
    "            else:\n",
    "                symbol = None\n",
    "            for name, trans in self.transitions.items():\n",
    "                if self.state == trans.input.state and symbol == trans.input.symbol:\n",
    "                    print(self.tape, end=\" \")\n",
    "                    if trans.output.state is not None:\n",
    "                        self.state = trans.output.state\n",
    "                    if trans.output.symbol is not None:\n",
    "                        self.tape[self.head_position] = trans.output.symbol\n",
    "                    self.head_position += {'L': -1, 'R': 1}[trans.output.head_move]\n",
    "                    print(\"-->\", self.tape)\n",
    "                    break\n",
    "            else:\n",
    "                break"
   ]
  },
  {
   "cell_type": "code",
   "execution_count": 7,
   "metadata": {
    "collapsed": false
   },
   "outputs": [],
   "source": [
    "class TM(YANGModule[TuringMachine]):\n",
    "\n",
    "    @rpc(argtypes={'tape_content': str})\n",
    "    def initialize(self, tape_content):\n",
    "        \"\"\"Initialize the Turing Machine.\n",
    "        \"\"\"\n",
    "        self.state = 0\n",
    "        self.head_position = 0\n",
    "        self.tape = tape_content\n",
    "\n",
    "    @rpc(argtypes={})\n",
    "    def run(self):\n",
    "        \"\"\"Start the Turing Machine operation.\n",
    "        \"\"\"\n",
    "        TuringMachine.run(self)"
   ]
  },
  {
   "cell_type": "code",
   "execution_count": 8,
   "metadata": {
    "collapsed": false
   },
   "outputs": [
    {
     "name": "stdout",
     "output_type": "stream",
     "text": [
      "Overwriting transitions.yaml\n"
     ]
    }
   ],
   "source": [
    "%%file transitions.yaml\n",
    "\n",
    "\"left summand\":\n",
    "  - {state:    0, symbol:    1}\n",
    "  - {state: null, symbol: null}\n",
    "\"separator\":\n",
    "  - {state:    0, symbol:    0}\n",
    "  - {state:    1, symbol:    1}\n",
    "\"right summand\":\n",
    "  - {state:    1, symbol:    1}\n",
    "  - {state: null, symbol: null}\n",
    "\"right end\":\n",
    "  - {state:    1, symbol: null}\n",
    "  - {state:    2, symbol: null, head_move: L}\n",
    "\"write separator\":\n",
    "  - {state:    2, symbol:    1}\n",
    "  - {state:    3, symbol:    0, head_move: L}\n",
    "\"go home\":\n",
    "  - {state:    3, symbol:    1}\n",
    "  - {state: null, symbol: null, head_move: L}\n",
    "\"final step\":\n",
    "  - {state:    3, symbol: null}\n",
    "  - {state:    4, symbol: null}"
   ]
  },
  {
   "cell_type": "code",
   "execution_count": 9,
   "metadata": {
    "collapsed": false
   },
   "outputs": [],
   "source": [
    "import yaml\n",
    "with open('transitions.yaml') as f:\n",
    "    PROGRAM = yaml.load(f)"
   ]
  },
  {
   "cell_type": "code",
   "execution_count": 10,
   "metadata": {
    "collapsed": false
   },
   "outputs": [],
   "source": [
    "tm = TM(PROGRAM)"
   ]
  },
  {
   "cell_type": "code",
   "execution_count": 11,
   "metadata": {
    "collapsed": true
   },
   "outputs": [],
   "source": [
    "tm.initialize('101')"
   ]
  },
  {
   "cell_type": "code",
   "execution_count": 12,
   "metadata": {
    "collapsed": false
   },
   "outputs": [
    {
     "name": "stdout",
     "output_type": "stream",
     "text": [
      "['1', '0', '1'] --> ['1', '0', '1']\n",
      "['1', '0', '1'] --> ['1', '1', '1']\n",
      "['1', '1', '1'] --> ['1', '1', '1']\n",
      "['1', '1', '1'] --> ['1', '1', '1']\n",
      "['1', '1', '1'] --> ['1', '1', '0']\n",
      "['1', '1', '0'] --> ['1', '1', '0']\n",
      "['1', '1', '0'] --> ['1', '1', '0']\n",
      "['1', '1', '0'] --> ['1', '1', '0']\n"
     ]
    }
   ],
   "source": [
    "tm.run()"
   ]
  },
  {
   "cell_type": "code",
   "execution_count": 13,
   "metadata": {
    "collapsed": false
   },
   "outputs": [
    {
     "name": "stdout",
     "output_type": "stream",
     "text": [
      "module turing-machine {\n",
      "  namespace \"https://netconf.modeled.io/turing-machine\";\n",
      "  prefix tm;\n",
      "\n",
      "  revision 2015-10-25;\n",
      "\n",
      "  container turing-machine {\n",
      "    leaf state {\n",
      "      type int64;\n",
      "    }\n",
      "    leaf head-position {\n",
      "      type int64;\n",
      "    }\n",
      "    list tape {\n",
      "      key \"index\";\n",
      "      leaf index {\n",
      "        type int64;\n",
      "      }\n",
      "      leaf item {\n",
      "        type string;\n",
      "      }\n",
      "    }\n",
      "    list transitions {\n",
      "      key \"key\";\n",
      "      leaf key {\n",
      "        type string;\n",
      "      }\n",
      "      container item {\n",
      "        container input {\n",
      "          leaf state {\n",
      "            type int64;\n",
      "          }\n",
      "          leaf symbol {\n",
      "            type string;\n",
      "          }\n",
      "        }\n",
      "        container output {\n",
      "          leaf state {\n",
      "            type int64;\n",
      "          }\n",
      "          leaf symbol {\n",
      "            type string;\n",
      "          }\n",
      "          leaf head-move {\n",
      "            type string;\n",
      "          }\n",
      "        }\n",
      "      }\n",
      "    }\n",
      "  }\n",
      "  rpc initialize {\n",
      "    description\n",
      "      \"Initialize the Turing Machine.\";\n",
      "    input {\n",
      "      leaf tape-content {\n",
      "        type string;\n",
      "      }\n",
      "    }\n",
      "  }\n",
      "  rpc run {\n",
      "    description\n",
      "      \"Start the Turing Machine operation.\";\n",
      "  }\n",
      "}\n",
      "\n"
     ]
    }
   ],
   "source": [
    "TM_YANG = TM.to_yang(namespace='https://netconf.modeled.io/turing-machine')\n",
    "print(TM_YANG)"
   ]
  },
  {
   "cell_type": "code",
   "execution_count": 14,
   "metadata": {
    "collapsed": true
   },
   "outputs": [],
   "source": [
    "with open('turing-machine.yang', 'w') as f:\n",
    "    f.write(TM_YANG)"
   ]
  },
  {
   "cell_type": "code",
   "execution_count": 15,
   "metadata": {
    "collapsed": false
   },
   "outputs": [
    {
     "name": "stdout",
     "output_type": "stream",
     "text": [
      "module: turing-machine\n",
      "   +--rw turing-machine\n",
      "      +--rw state?           int64\n",
      "      +--rw head-position?   int64\n",
      "      +--rw tape* [index]\n",
      "      |  +--rw index    int64\n",
      "      |  +--rw item?    string\n",
      "      +--rw transitions* [key]\n",
      "         +--rw key     string\n",
      "         +--rw item\n",
      "            +--rw input\n",
      "            |  +--rw state?    int64\n",
      "            |  +--rw symbol?   string\n",
      "            +--rw output\n",
      "               +--rw state?       int64\n",
      "               +--rw symbol?      string\n",
      "               +--rw head-move?   string\n",
      "rpcs:\n",
      "   +---x initialize\n",
      "   |  +---w input\n",
      "   |     +---w tape-content?   string\n",
      "   +---x run\n"
     ]
    }
   ],
   "source": [
    "!pyang -f tree turing-machine.yang"
   ]
  },
  {
   "cell_type": "code",
   "execution_count": 16,
   "metadata": {
    "collapsed": false
   },
   "outputs": [],
   "source": [
    "server = tm.serve(port=12345, host_key='key', username='user', password='password')"
   ]
  },
  {
   "cell_type": "code",
   "execution_count": 17,
   "metadata": {
    "collapsed": false
   },
   "outputs": [],
   "source": [
    "from netconf.client import NetconfSSHSession"
   ]
  },
  {
   "cell_type": "code",
   "execution_count": 18,
   "metadata": {
    "collapsed": false
   },
   "outputs": [],
   "source": [
    "client = NetconfSSHSession('localhost', port=12345, username='user', password='password')"
   ]
  },
  {
   "cell_type": "code",
   "execution_count": null,
   "metadata": {
    "collapsed": false
   },
   "outputs": [],
   "source": [
    "client.send_rpc('<run/>')"
   ]
  },
  {
   "cell_type": "code",
   "execution_count": 20,
   "metadata": {
    "collapsed": false
   },
   "outputs": [
    {
     "data": {
      "text/plain": [
       "4"
      ]
     },
     "execution_count": 20,
     "metadata": {},
     "output_type": "execute_result"
    }
   ],
   "source": [
    "tm.state"
   ]
  }
 ],
 "metadata": {
  "kernelspec": {
   "display_name": "Python 3",
   "language": "python",
   "name": "python3"
  },
  "language_info": {
   "codemirror_mode": {
    "name": "ipython",
    "version": 3
   },
   "file_extension": ".py",
   "mimetype": "text/x-python",
   "name": "python",
   "nbconvert_exporter": "python",
   "pygments_lexer": "ipython3",
   "version": "3.4.3"
  }
 },
 "nbformat": 4,
 "nbformat_minor": 0
}
